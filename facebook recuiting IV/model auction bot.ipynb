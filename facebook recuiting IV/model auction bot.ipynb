{
 "cells": [
  {
   "cell_type": "markdown",
   "metadata": {},
   "source": [
    "Script for a binary classification problem using a dataset with bidder information. Here's a high-level summary of what the code does:\n",
    "\n",
    "Data Loading and Preprocessing:\n",
    "\n",
    "The script loads a dataset from a CSV file ('etl_train.csv') into a Pandas DataFrame.\n",
    "Some preprocessing steps are performed, such as handling missing values, sorting the data, filling missing values, and dropping unnecessary columns.\n",
    "Feature Scaling:\n",
    "\n",
    "The features are scaled using StandardScaler from scikit-learn.\n",
    "Model Training and Evaluation:\n",
    "\n",
    "The script uses a RandomForestClassifier and a GradientBoostingClassifier from scikit-learn to train machine learning models.\n",
    "It uses a StratifiedShuffleSplit to split the data into training and validation sets, trains the models on the training sets, and evaluates their performance on the validation sets using ROC AUC scores.\n",
    "Feature Importance Plotting:\n",
    "\n",
    "It plots the feature importance of the RandomForestClassifier using a horizontal bar chart.\n",
    "Model Ensemble:\n",
    "\n",
    "The script performs ensemble modeling by training multiple instances of the RandomForestClassifier and averaging their predictions.\n",
    "Result Output:\n",
    "\n",
    "The script outputs the predictions on the test set into a CSV file ('fba_sub1.csv' and 'fba_sub1_1.csv')."
   ]
  },
  {
   "cell_type": "code",
   "execution_count": 11,
   "metadata": {},
   "outputs": [],
   "source": [
    "import pandas as pd\n",
    "import numpy as np\n",
    "import matplotlib.pyplot  as plt\n",
    "from sklearn.model_selection import StratifiedShuffleSplit\n",
    "from sklearn import preprocessing\n",
    "from sklearn.metrics import accuracy_score, roc_auc_score\n",
    "from sklearn.ensemble import RandomForestClassifier, AdaBoostClassifier, GradientBoostingClassifier"
   ]
  },
  {
   "cell_type": "code",
   "execution_count": 12,
   "metadata": {},
   "outputs": [
    {
     "name": "stdout",
     "output_type": "stream",
     "text": [
      "<class 'pandas.core.frame.DataFrame'>\n",
      "Int64Index: 6683 entries, 0 to 6712\n",
      "Columns: 118 entries, outcome to ip_entropy\n",
      "dtypes: float64(118)\n",
      "memory usage: 6.1 MB\n",
      "None\n"
     ]
    },
    {
     "name": "stderr",
     "output_type": "stream",
     "text": [
      "<ipython-input-12-16a9ce853bef>:3: UserWarning: Boolean Series key will be reindexed to match DataFrame index.\n",
      "  train=train.drop(train[train.outcome >=0][train.dt_mean_sig.isnull()].index)\n"
     ]
    }
   ],
   "source": [
    "train=pd.read_csv('etl_train.csv',index_col=None)\n",
    "test_ids=train[train.outcome==-1]['bidder_id'].reset_index()\n",
    "train=train.drop(train[train.outcome >=0][train.dt_mean_sig.isnull()].index)\n",
    "train=train.sort_values('bids_mean_auction')\n",
    "train = train.fillna(method='pad')\n",
    "train = train.fillna(method='backfill')\n",
    "train.sort_index(inplace=True)\n",
    "train = train.fillna(0)\n",
    "\n",
    "\n",
    "train=train.drop(['bidder_id','payment_account','address'],axis=1)\n",
    "print(train.info())"
   ]
  },
  {
   "cell_type": "code",
   "execution_count": 13,
   "metadata": {},
   "outputs": [
    {
     "name": "stdout",
     "output_type": "stream",
     "text": [
      "rf_roc_auc_score 0.9604863221884498\n",
      "xg_roc_auc_score 0.7897669706180344\n",
      "rf_roc_auc_score 0.9358535967578521\n",
      "xg_roc_auc_score 0.7095997973657548\n",
      "rf_roc_auc_score 0.9695415400202635\n",
      "xg_roc_auc_score 0.8133232016210739\n",
      "rf_roc_auc_score 0.9462386018237082\n",
      "xg_roc_auc_score 0.7203014184397164\n"
     ]
    }
   ],
   "source": [
    "X=train.drop('outcome',axis=1)\n",
    "Y=train[['outcome']].values\n",
    "test_index=train[train.outcome>=0].shape[0]\n",
    "columns = X.columns\n",
    "X_scaled = preprocessing.StandardScaler().fit(X).transform(X)\n",
    "\n",
    "\n",
    "X=X_scaled[:test_index,:]\n",
    "Y=Y[:test_index]\n",
    "x_test=X_scaled[test_index:,:]\n",
    "\n",
    "\n",
    "\n",
    "n=4\n",
    "split1 = StratifiedShuffleSplit(n_splits=n, test_size=0.2,\n",
    "                             random_state=0)\n",
    "split1.get_n_splits(X_scaled, Y)\n",
    "\n",
    "\n",
    "# using regression to get predicted data\n",
    "rf = RandomForestClassifier(n_estimators=800, criterion='entropy',random_state=6)\n",
    "xg = GradientBoostingClassifier(learning_rate=0.01, n_estimators=600,max_depth=None)\n",
    "\n",
    "\n",
    "pred_valid = 0\n",
    "pred_valid2 = 0\n",
    "\n",
    "for train_index, valid_index in split1.split(X, Y):\n",
    "    X_train, X_valid = X[train_index], X[valid_index]\n",
    "    y_train, y_valid = Y[train_index], Y[valid_index]\n",
    "    rf.fit(X_train, y_train.ravel())\n",
    "    xg.fit(X_train, y_train.ravel())\n",
    "    a = rf.predict_proba(X_valid)[:, 1]\n",
    "    pred_valid += a\n",
    "    a2 = xg.predict_proba(X_valid)[:, 1]\n",
    "    pred_valid2 += a2\n",
    "    print('rf_roc_auc_score', roc_auc_score(y_valid, a))\n",
    "    print('xg_roc_auc_score', roc_auc_score(y_valid, a2))\n",
    "\n",
    "# get accuracy of each prediction\n",
    "pred_valid = 1.0*pred_valid/n"
   ]
  },
  {
   "cell_type": "markdown",
   "metadata": {},
   "source": [
    "rf_roc_auc_score 0.9604863221884498: The Random Forest model achieved a high ROC AUC score of approximately 96% on the corresponding dataset or evaluation.\n",
    "\n",
    "xg_roc_auc_score 0.7897669706180344: The XGBoost model, on the other hand, achieved a lower ROC AUC score of around 79%. This suggests that, at least on this dataset or evaluation, the Random Forest model outperformed XGBoost in terms of ROC AUC.\n",
    "\n",
    "Similar comparisons can be made for the subsequent pairs of ROC AUC scores. For example, in the third pair, the Random Forest model achieved a score of approximately 97%, while XGBoost had a lower score of around 81%.\n",
    "\n",
    "In general, higher ROC AUC scores indicate better performance, with a score of 1.0 being perfect. It's essential to consider these scores in the context of your specific problem and dataset. If you have any specific questions or if there's more information you'd like to provide, feel free to ask for a more detailed interpretation."
   ]
  },
  {
   "cell_type": "markdown",
   "metadata": {},
   "source": [
    "which features are the most important for the model?\n",
    "\n",
    "1. Bids Mean Auction (0.0421):\n",
    "Bots may exhibit consistent bidding behavior across multiple auctions, leading to a higher mean number of bids per auction.\n",
    "2. Max Bids per Hour (0.0379):\n",
    "Unusually high activity in terms of maximum bids within an hour may indicate automated, rapid bidding characteristic of bots.\n",
    "3. Balance (0.0315):\n",
    "The balance feature may help distinguish bots from human bidders based on financial patterns and anomalies.\n",
    "4. Time Difference Mean within Same Bidder (0.0301):\n",
    "Bots often follow predefined patterns with consistent time gaps between bids, contributing to a notable time difference mean.\n",
    "5. Total Bids (0.0289):\n",
    "High total bid counts may suggest automated bidding scripts commonly associated with bots.\n",
    "6. Time Difference Median within Same Bidder (0.0275):\n",
    "Consistency in median time differences between bids by the same bidder may point towards automated behavior.\n",
    "7. Used URLs (0.0262):\n",
    "The usage of URLs might be a distinguishing factor, as bots may interact differently with external links compared to human bidders.\n",
    "8. Fraction of URLs (0.0201):\n",
    "The proportion of URLs used in bids could reveal patterns in bot behavior related to external content.\n",
    "9. Mean Time to Auction End (0.0181):\n",
    "Bots may have systematic strategies, reflected in the average time taken to place bids relative to auction end times.\n",
    "10. Wednesday Indicator (0.0165):\n",
    "Specific bidding patterns on Wednesdays may be indicative of automated scheduling, a common characteristic of bots."
   ]
  },
  {
   "cell_type": "code",
   "execution_count": 14,
   "metadata": {},
   "outputs": [
    {
     "name": "stdout",
     "output_type": "stream",
     "text": [
      "bids_mean_auction 0.04217950954048894\n",
      "max_bids_por_hora 0.03789574075067441\n",
      "balance 0.031530642288950785\n",
      "dt_mean_same_bidder 0.030052370973442502\n",
      "total_bids 0.028934293138720722\n",
      "dt_median_same_bidder 0.027456339108174597\n",
      "used_urls 0.026214297725088473\n",
      "f_urls 0.020113694386300354\n",
      "mean_t_end 0.018058528442023918\n",
      "wednesday 0.01648257606482037\n",
      "median_t_end 0.01640708593558446\n",
      "min_median_t_start 0.01629390303994015\n",
      "t_init_y 0.016048395707659223\n",
      "dt_min_same_bidder 0.015807175915319046\n",
      "t_init_x 0.015745641213087126\n",
      "min_mean_t_end 0.015109094319389225\n",
      "tuesday 0.014183767983678274\n",
      "30_de_72 0.013963003219554886\n",
      "ip_entropy 0.013390133917697557\n",
      "min_mean_t_start 0.013305319286444692\n",
      "bids_median_auction 0.013047927784156498\n",
      "min_median_t_end 0.012704611908084971\n",
      "url_entropy_y 0.012289046574798628\n",
      "29_de_72 0.012017996398187071\n",
      "dt_median_bidder_differente 0.01157579174387061\n",
      "62_de_72 0.011561337009687193\n",
      "dt_mean_bidder_differente 0.011435896976720117\n",
      "dt_median_sig 0.011404278239618213\n",
      "url_entropy_x 0.011354622683514379\n",
      "dt_mean_sig 0.010765684380658063\n",
      "f_wednesday 0.01046527228144755\n",
      "f_monday 0.010382180480385876\n",
      "monday 0.010315924209738446\n",
      "mean_sig_threshold 0.009876335088442266\n",
      "n_unique_url 0.009652710361854399\n",
      "s_monday 0.008697672597956327\n",
      "27_de_72 0.008671370636312037\n",
      "63_de_72 0.008571573938513195\n",
      "f_tuesday 0.008292713956355741\n",
      "s_tuesday 0.007562479593071537\n"
     ]
    },
    {
     "data": {
      "image/png": "[encoded data removed]",
      "text/plain": [
       "<Figure size 720x576 with 1 Axes>"
      ]
     },
     "metadata": {
      "needs_background": "light"
     },
     "output_type": "display_data"
    }
   ],
   "source": [
    "v = np.argsort(rf.feature_importances_)[::-1]\n",
    "columnas=[]\n",
    "features=[]\n",
    "\n",
    "\n",
    "for i in range(40):\n",
    "        print(columns[v[i]], rf.feature_importances_[v[i]])\n",
    "        columnas.append(columns[v[i]])\n",
    "        features.append( rf.feature_importances_[v[i]])\n",
    "        \n",
    "plt.figure(figsize=(10, 8))        \n",
    "plt.barh(columnas,features)\n",
    "# Invert the y-axis\n",
    "plt.gca().invert_yaxis()\n",
    "plt.xlabel(\"Random Forest Feature Importance\")\n",
    "plt.show()"
   ]
  },
  {
   "cell_type": "markdown",
   "metadata": {},
   "source": [
    "try the model with the test data. private score 0.93297 public score:0.92204"
   ]
  },
  {
   "cell_type": "code",
   "execution_count": 15,
   "metadata": {},
   "outputs": [
    {
     "name": "stderr",
     "output_type": "stream",
     "text": [
      "<ipython-input-15-ca902016f393>:4: DataConversionWarning: A column-vector y was passed when a 1d array was expected. Please change the shape of y to (n_samples,), for example using ravel().\n",
      "  rf.fit(X,Y)\n"
     ]
    },
    {
     "name": "stdout",
     "output_type": "stream",
     "text": [
      "pred_test [0.        0.0015625 0.0078125 ... 0.0253125 0.        0.01125  ]\n"
     ]
    }
   ],
   "source": [
    "pred_test =0\n",
    "\n",
    "\n",
    "rf.fit(X,Y)\n",
    "a_test = rf.predict_proba(x_test)[:, 1]\n",
    "pred_test += a_test\n",
    "\n",
    "\n",
    "pred_test = 1.0*pred_test/n\n",
    "print('pred_test',pred_test)\n",
    "test_ids['prediction']=pd.Series(pred_test, index=test_ids.index)\n",
    "\n",
    "test_ids=test_ids.drop('index', axis=1)\n",
    "test_ids.to_csv('fba_sub1.csv', sep=',', index=False, header=True, columns=['bidder_id', 'prediction'])"
   ]
  },
  {
   "cell_type": "markdown",
   "metadata": {},
   "source": [
    "simple average of the probabilities predicted by five instances of RandomForestClassifier (each initialized with a different random number)\n",
    "\n",
    "alternative for to create and test the model. private score 0.9342 public score:0.92326\n"
   ]
  },
  {
   "cell_type": "code",
   "execution_count": 16,
   "metadata": {},
   "outputs": [
    {
     "name": "stderr",
     "output_type": "stream",
     "text": [
      "<ipython-input-16-1a5198be197b>:8: DataConversionWarning: A column-vector y was passed when a 1d array was expected. Please change the shape of y to (n_samples,), for example using ravel().\n",
      "  clf[j].fit(X, Y)  # , sample_weight=(0.95*Y_train+0.05)\n",
      "<ipython-input-16-1a5198be197b>:8: DataConversionWarning: A column-vector y was passed when a 1d array was expected. Please change the shape of y to (n_samples,), for example using ravel().\n",
      "  clf[j].fit(X, Y)  # , sample_weight=(0.95*Y_train+0.05)\n",
      "<ipython-input-16-1a5198be197b>:8: DataConversionWarning: A column-vector y was passed when a 1d array was expected. Please change the shape of y to (n_samples,), for example using ravel().\n",
      "  clf[j].fit(X, Y)  # , sample_weight=(0.95*Y_train+0.05)\n",
      "<ipython-input-16-1a5198be197b>:8: DataConversionWarning: A column-vector y was passed when a 1d array was expected. Please change the shape of y to (n_samples,), for example using ravel().\n",
      "  clf[j].fit(X, Y)  # , sample_weight=(0.95*Y_train+0.05)\n",
      "<ipython-input-16-1a5198be197b>:8: DataConversionWarning: A column-vector y was passed when a 1d array was expected. Please change the shape of y to (n_samples,), for example using ravel().\n",
      "  clf[j].fit(X, Y)  # , sample_weight=(0.95*Y_train+0.05)\n"
     ]
    },
    {
     "name": "stdout",
     "output_type": "stream",
     "text": [
      "pred_test [0.      0.005   0.02525 ... 0.09525 0.      0.0395 ]\n"
     ]
    }
   ],
   "source": [
    "clf = []\n",
    "nclf = 5\n",
    "for i in range(nclf):\n",
    "    clf.append(RandomForestClassifier(n_estimators=800, max_depth=None, min_samples_leaf=1, random_state=i,\n",
    "                                      criterion='entropy'))\n",
    "pred_test =0\n",
    "for j in range(nclf):\n",
    "    clf[j].fit(X, Y)  \n",
    "    a = clf[j].predict_proba(x_test)[:, 1]\n",
    "    pred_test += a\n",
    "\n",
    "pred_test = 1.0 * pred_test / nclf\n",
    "print('pred_test',pred_test)\n",
    "test_ids['prediction']=pd.Series(pred_test, index=test_ids.index)\n",
    "\n",
    "#test_ids=test_ids.drop('index', axis=1)\n",
    "test_ids.to_csv('fba_sub1_1.csv', sep=',', index=False, header=True, columns=['bidder_id', 'prediction'])"
   ]
  },
  {
   "cell_type": "code",
   "execution_count": null,
   "metadata": {},
   "outputs": [],
   "source": []
  }
 ],
 "metadata": {
  "kernelspec": {
   "display_name": "Python 3",
   "language": "python",
   "name": "python3"
  },
  "language_info": {
   "codemirror_mode": {
    "name": "ipython",
    "version": 3
   },
   "file_extension": ".py",
   "mimetype": "text/x-python",
   "name": "python",
   "nbconvert_exporter": "python",
   "pygments_lexer": "ipython3",
   "version": "3.8.5"
  }
 },
 "nbformat": 4,
 "nbformat_minor": 4
}
