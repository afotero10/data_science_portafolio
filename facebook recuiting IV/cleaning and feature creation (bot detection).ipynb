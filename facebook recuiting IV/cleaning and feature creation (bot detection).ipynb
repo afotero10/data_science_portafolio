{
 "cells": [
  {
   "cell_type": "markdown",
   "metadata": {},
   "source": [
    "introduction\n",
    "\n",
    "the Facebook Recruiting IV Kaggle Challenge, \"Human or Robot?\" \n",
    "This project revolves around addressing the critical issue of computer-generated bidding in online auctions. The objective is to aid site owners in identifying and eliminating robotic bids, ensuring a fair and equitable auction platform. Despite previous attempts using behavioral data, the existing model has proven insufficient. Join me in exploring advanced techniques and methodologies employed to enhance predictive models, presenting a valuable addition to my portfolio as a data scientist committed to solving real-world challenges in the digital landscape.\n"
   ]
  },
  {
   "cell_type": "markdown",
   "metadata": {},
   "source": [
    "Entropy \n",
    "\n",
    "N!/N_1!N_2!....N_n!\n",
    "\n",
    "\n",
    "N is the total number of bids and N_n is the total number of bids placed from the nth IP.\n",
    "\n",
    "Entropy is a metric that gauges the randomness and diversity of bids, considering factors such as the distribution of bids, the number of unique IPs, and the overall bid count. When a bidder consistently places bids from a single IP, the entropy is minimal, represented by a value of 1, as there is no variation. Due to the potentially large values of entropy, it is often more practical to compute the logarithm of the entropy for better interpretability and ease of comparison."
   ]
  },
  {
   "cell_type": "markdown",
   "metadata": {},
   "source": [
    "The provided Python code is an ETL (Extract, Transform, Load) process for feature engineering on bidding data to prepare it for a machine learning model. Below is a summary of the key steps and transformations performed in the code:\n",
    "\n",
    "Data Preprocessing:\n",
    "\n",
    "The bids data is sorted based on the auction and time.\n",
    "Initial transformations are applied to determine the duration of each auction.\n",
    "Time-related Features:\n",
    "\n",
    "Features such as t_acabar (time to auction end) and t_iniciado (time since auction start) are calculated and aggregated at the bidder level.\n",
    "Bidding Patterns Analysis:\n",
    "\n",
    "The code explores the bidding patterns over time, distinguishing between human and bot behavior.\n",
    "Three peaks in the bidding distribution are identified and visualized.\n",
    "Linear Regression for Time Units:\n",
    "\n",
    "Linear regression is used to estimate the time unit (e.g., a day) based on the time distribution.\n",
    "The dataset is then labeled with the corresponding time unit.\n",
    "Bids Per Time Unit:\n",
    "\n",
    "The number of bids made by each bidder during specific time units (e.g., days) is calculated.\n",
    "Bids Distribution Within a Week:\n",
    "\n",
    "Bids are grouped by days of the week (Monday, Tuesday, Wednesday), and a balance feature is derived.\n",
    "Bids Per Time Period:\n",
    "\n",
    "Bids are categorized into specific time periods (e.g., every 20-minute intervals).\n",
    "Time Intervals Between Bids:\n",
    "\n",
    "Time intervals between consecutive bids within the same auction, same bidder, different auction but same bidder, and different bidder but same auction are calculated.\n",
    "Mean and median values are computed at the bidder level.\n",
    "Bids Per Auction:\n",
    "\n",
    "Features related to bids per auction, such as mean and median, are calculated.\n",
    "URL and IP Related Features:\n",
    "\n",
    "Unique and total counts of URLs and IPs are computed.\n",
    "Entropy measures for URLs and IPs are calculated.\n",
    "Outcome Variable Adjustment:\n",
    "\n",
    "The final dataset is merged with the original training data, and additional features are added.\n",
    "Some NaN values are handled appropriately.\n",
    "Saving Processed Data:\n",
    "\n",
    "The resulting dataset is saved as 'etl_train.csv' for further analysis and model training."
   ]
  },
  {
   "cell_type": "code",
   "execution_count": 1,
   "metadata": {},
   "outputs": [],
   "source": [
    "import pandas as pd\n",
    "import matplotlib.pyplot as plt\n",
    "import numpy as np\n",
    "from sklearn.linear_model import LinearRegression\n",
    "\n",
    "#load the data\n",
    "bids=pd.read_csv('bids.csv')\n",
    "bids = bids.sort_values(['auction', 'time'])"
   ]
  },
  {
   "cell_type": "code",
   "execution_count": 2,
   "metadata": {},
   "outputs": [
    {
     "name": "stdout",
     "output_type": "stream",
     "text": [
      " bids columns:\n",
      "          bid_id                              bidder_id auction  \\\n",
      "5826422  5826422  92af1e40713e077ef87f5352fb56772fjnzm7   00270   \n",
      "5834284  5834284  a939f51234ad2c44eb9ccc84e754f41foiv7g   00270   \n",
      "5850448  5850448  92af1e40713e077ef87f5352fb56772fjnzm7   00270   \n",
      "5884054  5884054  9655ccc7c0c193f1549475f02c54dce45kjw7   00270   \n",
      "5898318  5898318  9655ccc7c0c193f1549475f02c54dce45kjw7   00270   \n",
      "\n",
      "            merchandise     device              time country               ip  \\\n",
      "5826422          mobile   phone563  9699049894736842      us   78.188.245.105   \n",
      "5834284          mobile    phone63  9699098210526315      us   12.142.135.122   \n",
      "5850448          mobile   phone735  9699195789473684      us     2.86.254.154   \n",
      "5884054  sporting goods   phone573  9699392473684210      us  149.152.163.145   \n",
      "5898318  sporting goods  phone2294  9699474473684210      us   219.254.45.139   \n",
      "\n",
      "                     url  \n",
      "5826422  vuaaeraf3dqz299  \n",
      "5834284  fbpq1mgtpgnkqnk  \n",
      "5850448  nn2g552xadgkfch  \n",
      "5884054  vasstdc27m7nks3  \n",
      "5898318  vasstdc27m7nks3  \n",
      "\n",
      "Bids shape\n",
      "(7656334, 9)\n",
      "\n",
      "Number of unique values in each column:\n",
      "bid_id         7656334\n",
      "bidder_id         6614\n",
      "auction          15051\n",
      "merchandise         10\n",
      "device            7351\n",
      "time            776529\n",
      "country            199\n",
      "ip             2303991\n",
      "url            1786351\n",
      "dtype: int64\n",
      "\n",
      "Number of null values in each column:\n",
      "bid_id            0\n",
      "bidder_id         0\n",
      "auction           0\n",
      "merchandise       0\n",
      "device            0\n",
      "time              0\n",
      "country        8859\n",
      "ip                0\n",
      "url               0\n",
      "dtype: int64\n"
     ]
    }
   ],
   "source": [
    "print(\" bids columns:\")\n",
    "print(bids.head(5))\n",
    "\n",
    "\n",
    "print(\"\\nBids shape\")\n",
    "print(bids.shape)\n",
    "\n",
    "unique_values_count = bids.nunique()\n",
    "print(\"\\nNumber of unique values in each column:\")\n",
    "print(unique_values_count)\n",
    "\n",
    "null_values_count = bids.isnull().sum()\n",
    "print(\"\\nNumber of null values in each column:\")\n",
    "print(null_values_count)"
   ]
  },
  {
   "cell_type": "code",
   "execution_count": 3,
   "metadata": {},
   "outputs": [
    {
     "data": {
      "text/html": [
       "<div>\n",
       "<style scoped>\n",
       "    .dataframe tbody tr th:only-of-type {\n",
       "        vertical-align: middle;\n",
       "    }\n",
       "\n",
       "    .dataframe tbody tr th {\n",
       "        vertical-align: top;\n",
       "    }\n",
       "\n",
       "    .dataframe thead th {\n",
       "        text-align: right;\n",
       "    }\n",
       "</style>\n",
       "<table border=\"1\" class=\"dataframe\">\n",
       "  <thead>\n",
       "    <tr style=\"text-align: right;\">\n",
       "      <th></th>\n",
       "      <th>bidder_id</th>\n",
       "      <th>payment_account</th>\n",
       "      <th>address</th>\n",
       "      <th>outcome</th>\n",
       "    </tr>\n",
       "  </thead>\n",
       "  <tbody>\n",
       "    <tr>\n",
       "      <th>0</th>\n",
       "      <td>91a3c57b13234af24875c56fb7e2b2f4rb56a</td>\n",
       "      <td>a3d2de7675556553a5f08e4c88d2c228754av</td>\n",
       "      <td>a3d2de7675556553a5f08e4c88d2c228vt0u4</td>\n",
       "      <td>0.0</td>\n",
       "    </tr>\n",
       "    <tr>\n",
       "      <th>1</th>\n",
       "      <td>624f258b49e77713fc34034560f93fb3hu3jo</td>\n",
       "      <td>a3d2de7675556553a5f08e4c88d2c228v1sga</td>\n",
       "      <td>ae87054e5a97a8f840a3991d12611fdcrfbq3</td>\n",
       "      <td>0.0</td>\n",
       "    </tr>\n",
       "    <tr>\n",
       "      <th>2</th>\n",
       "      <td>1c5f4fc669099bfbfac515cd26997bd12ruaj</td>\n",
       "      <td>a3d2de7675556553a5f08e4c88d2c2280cybl</td>\n",
       "      <td>92520288b50f03907041887884ba49c0cl0pd</td>\n",
       "      <td>0.0</td>\n",
       "    </tr>\n",
       "    <tr>\n",
       "      <th>3</th>\n",
       "      <td>4bee9aba2abda51bf43d639013d6efe12iycd</td>\n",
       "      <td>51d80e233f7b6a7dfdee484a3c120f3b2ita8</td>\n",
       "      <td>4cb9717c8ad7e88a9a284989dd79b98dbevyi</td>\n",
       "      <td>0.0</td>\n",
       "    </tr>\n",
       "    <tr>\n",
       "      <th>4</th>\n",
       "      <td>4ab12bc61c82ddd9c2d65e60555808acqgos1</td>\n",
       "      <td>a3d2de7675556553a5f08e4c88d2c22857ddh</td>\n",
       "      <td>2a96c3ce94b3be921e0296097b88b56a7x1ji</td>\n",
       "      <td>0.0</td>\n",
       "    </tr>\n",
       "  </tbody>\n",
       "</table>\n",
       "</div>"
      ],
      "text/plain": [
       "                               bidder_id  \\\n",
       "0  91a3c57b13234af24875c56fb7e2b2f4rb56a   \n",
       "1  624f258b49e77713fc34034560f93fb3hu3jo   \n",
       "2  1c5f4fc669099bfbfac515cd26997bd12ruaj   \n",
       "3  4bee9aba2abda51bf43d639013d6efe12iycd   \n",
       "4  4ab12bc61c82ddd9c2d65e60555808acqgos1   \n",
       "\n",
       "                         payment_account  \\\n",
       "0  a3d2de7675556553a5f08e4c88d2c228754av   \n",
       "1  a3d2de7675556553a5f08e4c88d2c228v1sga   \n",
       "2  a3d2de7675556553a5f08e4c88d2c2280cybl   \n",
       "3  51d80e233f7b6a7dfdee484a3c120f3b2ita8   \n",
       "4  a3d2de7675556553a5f08e4c88d2c22857ddh   \n",
       "\n",
       "                                 address  outcome  \n",
       "0  a3d2de7675556553a5f08e4c88d2c228vt0u4      0.0  \n",
       "1  ae87054e5a97a8f840a3991d12611fdcrfbq3      0.0  \n",
       "2  92520288b50f03907041887884ba49c0cl0pd      0.0  \n",
       "3  4cb9717c8ad7e88a9a284989dd79b98dbevyi      0.0  \n",
       "4  2a96c3ce94b3be921e0296097b88b56a7x1ji      0.0  "
      ]
     },
     "execution_count": 3,
     "metadata": {},
     "output_type": "execute_result"
    }
   ],
   "source": [
    "# load the train and test files\n",
    "train=pd.read_csv('train.csv')\n",
    "test=pd.read_csv('test.csv')\n",
    "test['outcome']=-1\n",
    "train=pd.concat([train,test])\n",
    "train.head(5)"
   ]
  },
  {
   "cell_type": "markdown",
   "metadata": {},
   "source": [
    "explain what this methods do"
   ]
  },
  {
   "cell_type": "code",
   "execution_count": 5,
   "metadata": {},
   "outputs": [],
   "source": [
    "def fac_div_fac(x, y):\n",
    "    if x == 0:\n",
    "        x = 1\n",
    "    if y == 0:\n",
    "        y = 1\n",
    "\n",
    "    if x > y:\n",
    "        return np.sum(np.log(1.0 * np.array(range(int(y + 1), int(x + 1)))))\n",
    "    if y > x:\n",
    "        return -np.sum(np.log(1.0 * np.array(range(int(x + 1), int(y + 1)))))\n",
    "    return 0.0\n",
    "\n",
    "\n",
    "def balance(x):\n",
    "    #\tx['balance'] = np.std(x)/np.sqrt(np.mean(x))\n",
    "    prueba=np.sum(x) / len(x)\n",
    "    x0 = int(np.floor(np.sum(x) / len(x)))\n",
    "    base = x0 * np.ones(len(x))\n",
    "    \n",
    "    base[0:int(np.sum(x) - x0 * len(x))] = x0 + 1\n",
    "\n",
    "    b = 0.0\n",
    "    for i in range(len(x)):\n",
    "        # print base[i], x[i]\n",
    "        b += fac_div_fac(base[i], x[i])\n",
    "\n",
    "    # print b\n",
    "    x['balance'] = b\n",
    "\n",
    "    return x\n",
    "\n",
    "\n",
    "def log_entropy(x):\n",
    "    #x:(indice,valor)\n",
    "    e = np.sum(np.log(np.array(range(1, np.sum(x)))))\n",
    "    for i in x:\n",
    "        e -= np.sum(np.log(np.array(range(1, i))))\n",
    "\n",
    "    return e"
   ]
  },
  {
   "cell_type": "markdown",
   "metadata": {},
   "source": [
    "the aproach would be that from bids i will create the features that will be able to determine which user is a bot."
   ]
  },
  {
   "cell_type": "code",
   "execution_count": 6,
   "metadata": {},
   "outputs": [],
   "source": [
    "# determine auction duration\n",
    "\n",
    "a=bids.groupby(['auction']).time.min().reset_index()\n",
    "a=a.rename(columns={'time':'t_start'})\n",
    "a2=bids.groupby('auction').time.max().reset_index()\n",
    "a2=a2.rename(columns={'time':'t_end'})\n",
    "a=pd.merge(a,a2,how='left',on='auction')\n",
    "#times['duration'] = times.endt - times.startt\n",
    "a['duration']=a['t_end']-a['t_start']\n",
    "\n",
    "#filter auctions that didnt start\n",
    "auctions_no_iniciadas=a[a['duration']==0]\n",
    "a=a[a['duration']!=0]\n",
    "\n",
    "\n",
    "#add a features to bids dataframe\n",
    "bids=pd.merge(bids,a,how='left',on='auction')\n",
    "bids['t_end']=bids.t_end-bids.time\n",
    "bids['t_init']=bids.time-bids.t_start\n",
    "\n",
    "# features realted with end auction time\n",
    "a=bids.groupby(['bidder_id','auction']).t_end.min().reset_index()\n",
    "b=a.groupby('bidder_id').mean().reset_index()\n",
    "b=b.rename(columns={'t_end':'min_mean_t_end'})\n",
    "train=pd.merge(train,b,how='left',on='bidder_id')\n",
    "b=a.groupby('bidder_id').median().reset_index()\n",
    "b=b.rename(columns={'t_end':'min_median_t_end'})\n",
    "train=pd.merge(train,b,how='left',on='bidder_id')\n",
    "\n",
    "# features realted with init auction time\n",
    "a=bids.groupby(['bidder_id','auction']).t_init.min().reset_index()\n",
    "b=a.groupby('bidder_id').mean().reset_index()\n",
    "b=b.rename(columns={'t_init':'min_mean_t_start'})\n",
    "train=pd.merge(train,b,how='left',on='bidder_id')\n",
    "b=a.groupby('bidder_id').median().reset_index()\n",
    "b=b.rename(columns={'t_init':'min_median_t_start'})\n",
    "train=pd.merge(train,b,how='left',on='bidder_id')\n",
    "\n",
    "# mean and median end time by user\n",
    "b=bids.groupby('bidder_id').t_end.mean().reset_index()\n",
    "b=b.rename(columns={'t_end':'mean_t_end'})\n",
    "train=pd.merge(train,b,how='left',on='bidder_id')\n",
    "b=bids.groupby('bidder_id').t_end.median().reset_index()\n",
    "b=b.rename(columns={'t_end':'median_t_end'})\n",
    "train=pd.merge(train,b,how='left',on='bidder_id')\n",
    "\n",
    "# mean and median init time by user\n",
    "b=bids.groupby('bidder_id').t_init.mean().reset_index()\n",
    "b=b.rename(columns={'t_iniciado':'mean_t_start'})\n",
    "train=pd.merge(train,b,how='left',on='bidder_id')\n",
    "b=bids.groupby('bidder_id').t_init.median().reset_index()\n",
    "b=b.rename(columns={'t_iniciado':'median_t_start'})\n",
    "train=pd.merge(train,b,how='left',on='bidder_id')\n"
   ]
  },
  {
   "cell_type": "code",
   "execution_count": 7,
   "metadata": {},
   "outputs": [
    {
     "name": "stderr",
     "output_type": "stream",
     "text": [
      "<ipython-input-7-1fd035a5e9d9>:8: VisibleDeprecationWarning: Passing `normed=True` on non-uniform bins has always been broken, and computes neither the probability density function nor the probability mass function. The result is only correct if the bins are uniform, when density=True will produce the same result anyway. The argument will be removed in a future version of numpy.\n",
      "  botp = np.histogram(bot, 3000, range=[bot.min()-delta,bot.max()+delta], normed=True)\n",
      "<ipython-input-7-1fd035a5e9d9>:9: VisibleDeprecationWarning: Passing `normed=True` on non-uniform bins has always been broken, and computes neither the probability density function nor the probability mass function. The result is only correct if the bins are uniform, when density=True will produce the same result anyway. The argument will be removed in a future version of numpy.\n",
      "  humanp = np.histogram(human, 3000, range=[human.min()-delta,human.max()+delta], normed=True)\n"
     ]
    },
    {
     "data": {
      "text/plain": [
       "Text(0.5, 1.0, 'bids over time')"
      ]
     },
     "execution_count": 7,
     "metadata": {},
     "output_type": "execute_result"
    },
    {
     "data": {
      "image/png": "[encoded data removed]",
      "text/plain": [
       "<Figure size 720x576 with 1 Axes>"
      ]
     },
     "metadata": {
      "needs_background": "light"
     },
     "output_type": "display_data"
    }
   ],
   "source": [
    "# data exploration\n",
    "\n",
    "bots=train[train.outcome==1].bidder_id.values\n",
    "humans=train[train.outcome==0].bidder_id.values\n",
    "bot=bids[bids.bidder_id.isin(bots)].time\n",
    "human=bids[bids.bidder_id.isin(humans)].time\n",
    "delta=1e12\n",
    "botp = np.histogram(bot, 3000, range=[bot.min()-delta,bot.max()+delta], normed=True)\n",
    "humanp = np.histogram(human, 3000, range=[human.min()-delta,human.max()+delta], normed=True)\n",
    "no0=pd.DataFrame(humanp[0])\n",
    "no0=no0[no0.iloc[:,0]!=0]\n",
    "\n",
    "#plot of the entire data\n",
    "plt.figure(figsize=(10, 8))\n",
    "plt.plot(humanp[1][0:-1], humanp[0], 'g.-')\n",
    "plt.plot(humanp[1][0:-1], botp[0], 'b.-')\n",
    "plt.legend(['human','bot'], frameon=False)\n",
    "plt.title('bids over time')\n",
    "\n"
   ]
  },
  {
   "cell_type": "markdown",
   "metadata": {},
   "source": [
    "the time column for this challenge doest have any units. from the data it can be seen that the are 3 moments for auctions. It is assumed that each chunck of data could be a day. This is because the duration of each auction has the same length. The duration of the entire data set is 31 times the lenght of an auction (one day). "
   ]
  },
  {
   "cell_type": "code",
   "execution_count": 8,
   "metadata": {},
   "outputs": [
    {
     "name": "stdout",
     "output_type": "stream",
     "text": [
      "9772885210526315\n",
      "9631916842105263\n"
     ]
    },
    {
     "name": "stderr",
     "output_type": "stream",
     "text": [
      "<ipython-input-8-f35ad7575f6e>:3: VisibleDeprecationWarning: Passing `normed=True` on non-uniform bins has always been broken, and computes neither the probability density function nor the probability mass function. The result is only correct if the bins are uniform, when density=True will produce the same result anyway. The argument will be removed in a future version of numpy.\n",
      "  botp2 = np.histogram(bot, 300, range=[bot.min()-delta,botp[1][440]+delta*0.2], normed=True)\n",
      "<ipython-input-8-f35ad7575f6e>:4: VisibleDeprecationWarning: Passing `normed=True` on non-uniform bins has always been broken, and computes neither the probability density function nor the probability mass function. The result is only correct if the bins are uniform, when density=True will produce the same result anyway. The argument will be removed in a future version of numpy.\n",
      "  humanp2 = np.histogram(human, 300, range=[human.min()-delta,humanp[1][440]+delta*0.2], normed=True)\n"
     ]
    },
    {
     "data": {
      "text/plain": [
       "Text(0.5, 1.0, 'bids over time')"
      ]
     },
     "execution_count": 8,
     "metadata": {},
     "output_type": "execute_result"
    },
    {
     "data": {
      "image/png": "[encoded data removed]",
      "text/plain": [
       "<Figure size 432x288 with 1 Axes>"
      ]
     },
     "metadata": {
      "needs_background": "light"
     },
     "output_type": "display_data"
    }
   ],
   "source": [
    "#plot for one of the days\n",
    "f=botp[1][440]\n",
    "botp2 = np.histogram(bot, 300, range=[bot.min()-delta,botp[1][440]+delta*0.2], normed=True)\n",
    "humanp2 = np.histogram(human, 300, range=[human.min()-delta,humanp[1][440]+delta*0.2], normed=True)\n",
    "plt.plot(humanp2[1][0:-1], humanp2[0], 'g.-')\n",
    "plt.plot(humanp2[1][0:-1], botp2[0], 'b.-')\n",
    "botp3 = np.histogram(bot, 4000, range=[bot.min()-delta,bot.max()+delta])\n",
    "humanp3 = np.histogram(human, 4000, range=[human.min()-delta,human.max()+delta])\n",
    "print(bot.max())\n",
    "print(bot.min())\n",
    "plt.legend(['human','bot'], frameon=False)\n",
    "plt.title('bids over time')"
   ]
  },
  {
   "cell_type": "markdown",
   "metadata": {},
   "source": [
    "as there is no unit for the time its better to create a unit and the start creating features with respect to this unit. the following code lets to identify the day and the week of each bid"
   ]
  },
  {
   "cell_type": "code",
   "execution_count": 9,
   "metadata": {},
   "outputs": [
    {
     "name": "stdout",
     "output_type": "stream",
     "text": [
      "weeks  [2. 4. 0.]\n",
      "days  [14. 15. 16. 28. 29. 30.  0.  1.  2.]\n"
     ]
    }
   ],
   "source": [
    "#calculate a day by linear regression \n",
    "t0=bot.min()\n",
    "day3=bids[bids['time']<=botp3[1][410]]\n",
    "day3=day3.sort_values('time',ascending=False)\n",
    "day3=day3['time'].iloc[0]\n",
    "\n",
    "\n",
    "t=botp3[1][1809]\n",
    "t2=botp3[1][1808]\n",
    "\n",
    "day14=bids[bids['time']<=botp3[1][1810]]\n",
    "day14=day14[day14['time']>=botp3[1][1808]]\n",
    "day14=day14.sort_values('time',ascending=True)\n",
    "day14=day14['time'].iloc[0]\n",
    "\n",
    "day17=bids[bids['time']<=botp3[1][2191]]\n",
    "day17=day17.sort_values('time',ascending=False)\n",
    "day17=day17['time'].iloc[0]\n",
    "\n",
    "day28=bids[bids['time']<=botp3[1][3591]]\n",
    "day28=day28[day28['time']>=botp3[1][3589]]\n",
    "day28=day28.sort_values('time',ascending=True)\n",
    "day28=day28['time'].iloc[0]\n",
    "\n",
    "day31=bids[bids['time']<=botp3[1][3973]]\n",
    "day31=day31.sort_values('time',ascending=False)\n",
    "day31=day31['time'].iloc[0]\n",
    "\n",
    "unidad_x=np.array([t0,day3,day14,day17,day28,day31])\n",
    "days=np.array([0,3,14,17,28,31]).reshape((-1,1))\n",
    "\n",
    "clf = LinearRegression(fit_intercept=True)\n",
    "clf.fit(days, unidad_x)\n",
    "day0=np.array([0])\n",
    "day1=np.array([1])\n",
    "startt=clf.predict(day0.reshape((-1,1)))\n",
    "startt2=clf.predict(day1.reshape((-1,1)))\n",
    "day =(startt2-startt)\n",
    "\n",
    "\n",
    "bids['day']=np.floor((bids.time-startt)/day)\n",
    "bids['week']=np.floor((bids.day/7))\n",
    "print('weeks ',bids.week.unique())\n",
    "dayu=bids.day.unique()\n",
    "weeks=bids.week.unique()\n",
    "print('days ',dayu)"
   ]
  },
  {
   "cell_type": "markdown",
   "metadata": {},
   "source": [
    "The day of the month is already known. it also will be helpful to recognize the weekday in order to find any pattern"
   ]
  },
  {
   "cell_type": "code",
   "execution_count": 10,
   "metadata": {},
   "outputs": [],
   "source": [
    "b=bids.groupby(['bidder_id','day']).size().reset_index()\n",
    "b=b.rename(columns={0:'bids_por_dia'})\n",
    "b=b.pivot('bidder_id','day','bids_por_dia').fillna(0).reset_index()\n",
    "old_columns=b.columns.values\n",
    "new_columns=[b.columns[0]]\n",
    "\n",
    "for i in range(1,len(b.columns)):\n",
    "    new_columns.append(str(int(old_columns[i]))+'_day')\n",
    "b=b.rename(columns=dict(zip(old_columns, new_columns)))\n",
    "b['monday'] = (b['0_day'] + b['14_day'] + b['28_day']).fillna(0)\n",
    "b['tuesday'] = (b['1_day'] + b['15_day'] + b['29_day']).fillna(0)\n",
    "b['wednesday'] = (b['2_day'] + b['16_day'] + b['30_day']).fillna(0)\n",
    "b['balance'] = b[['monday', 'tuesday', 'wednesday']].apply(balance, axis=1)[['balance']]\n",
    "\n",
    "train=pd.merge(train,b,how='left',on='bidder_id')\n",
    "train[['monday', 'tuesday', 'wednesday', 'balance']] = train[['monday', 'tuesday', 'wednesday', 'balance']].fillna(0)\n",
    "\n",
    "\n",
    "s = train.loc[:, ['monday', 'tuesday', 'wednesday']].max(axis=1)\n",
    "train['s_monday'] = train['monday'] / s\n",
    "train['s_tuesday'] = train['tuesday'] / s\n",
    "train['s_wednesday'] = train['wednesday'] / s\n",
    "\n",
    "s = train.loc[:, ['monday', 'tuesday', 'wednesday']].sum(axis=1)\n",
    "train['f_monday'] = train['monday'] / s\n",
    "train['f_tuesday'] = train['tuesday'] / s\n",
    "train['f_wednesday'] = train['wednesday'] / s"
   ]
  },
  {
   "cell_type": "markdown",
   "metadata": {},
   "source": [
    "not only i necessary to get the weekday but also the behaviour in minutes. bot may place bids faster. the following features were calculated:\n",
    "\n",
    "\n",
    "\n",
    "time betweeen bids from the same auction\n",
    "time between bids from different bidders from the same auction\n",
    "time between bids from same bidder for every auction\n",
    "calculate the mean bids per auction for every id\n"
   ]
  },
  {
   "cell_type": "markdown",
   "metadata": {},
   "source": [
    "how to calculate time\n",
    "units to hour\n",
    "x units * 1 day/4547368124071.879 units * 24hr/1 day = hours\n",
    "\n",
    "other possibiliites can be 30 min replacing 24 by 48 or 20 min replacing 24 by 72"
   ]
  },
  {
   "cell_type": "code",
   "execution_count": 103,
   "metadata": {},
   "outputs": [],
   "source": [
    "#Bid in a specific period n=24 hours, n=48 30 min, n=72 20 min\n",
    "n=72\n",
    "\n",
    "bids_por_tiempo=np.floor(np.mod(bids.time-t0,day)*n/day)\n",
    "bids_por_tiempo.name = 'franja'\n",
    "bids=pd.concat([bids,bids_por_tiempo],axis=1)\n",
    "\n",
    "b = bids.groupby(['bidder_id', 'franja']).size().reset_index()\n",
    "b=b.rename(columns={0:'countfranja72'})\n",
    "b=b.pivot('bidder_id','franja','countfranja72').fillna(0).reset_index()\n",
    "old_names=b.columns.values\n",
    "new_names=b.columns.values\n",
    "\n",
    "for i in range(1,len(b.columns)):\n",
    "    new_names[i]=str(int(new_names[i]))+'_de_'+str(n)\n",
    "\n",
    "b = b.rename(columns=dict(zip(old_names, new_names)), inplace=False)\n",
    "b['max_bids_por_hora']=b.iloc[:,1:].max(axis=1)\n",
    "train=pd.merge(train,b,how='left',on='bidder_id')\n",
    "\n",
    "\n",
    "for week in [0,2,4]:\n",
    "    b=bids[bids.week==week].sort_values(['auction','time'])\n",
    "    t_prev=np.append([np.nan],b.time.values[0:-1])\n",
    "    b['dt_auction']=b.time-t_prev\n",
    "    auction_prev=np.append([np.nan],b.auction.values[0:-1])\n",
    "    b['auction_antes']=auction_prev\n",
    "    if week==0:\n",
    "        c=[b[b.auction==b.auction_antes]]\n",
    "    else:\n",
    "        c.append(b[b.auction==b.auction_antes])\n",
    "   \n",
    "\n"
   ]
  },
  {
   "cell_type": "code",
   "execution_count": null,
   "metadata": {},
   "outputs": [],
   "source": []
  },
  {
   "cell_type": "code",
   "execution_count": 104,
   "metadata": {},
   "outputs": [
    {
     "name": "stderr",
     "output_type": "stream",
     "text": [
      "<ipython-input-104-14a5e5f0c799>:37: UserWarning: Boolean Series key will be reindexed to match DataFrame index.\n",
      "  c=[a[a.bidder_id!=a.bidder_prev][a.auction==a.auction_prev]]\n",
      "<ipython-input-104-14a5e5f0c799>:39: UserWarning: Boolean Series key will be reindexed to match DataFrame index.\n",
      "  c.append(a[a.bidder_id!=a.bidder_prev][a.auction==a.auction_prev])\n",
      "<ipython-input-104-14a5e5f0c799>:39: UserWarning: Boolean Series key will be reindexed to match DataFrame index.\n",
      "  c.append(a[a.bidder_id!=a.bidder_prev][a.auction==a.auction_prev])\n"
     ]
    }
   ],
   "source": [
    "#c=pd.DataFrame(c)\n",
    "#time betweeen bids from the same auction\n",
    "c=pd.concat(c)\n",
    "d=c.groupby(['bidder_id']).dt_auction.mean().reset_index()\n",
    "d=d.rename(columns={'dt_auction':'dt_mean_sig'})\n",
    "d2=c.groupby(['bidder_id']).dt_auction.median().reset_index()\n",
    "d2=d2.rename(columns={'dt_auction':'dt_median_sig'})\n",
    "d2=d2.drop(columns=['bidder_id'])\n",
    "d=pd.concat([d,d2],axis=1)\n",
    "train=pd.merge(train,d,how='left',on='bidder_id')\n",
    "\n",
    "#calculate 15s in x units. 86400 s in 1 day\n",
    "t_threshold=day*15/86400\n",
    "c['mean_sig_threshold']=np.nan\n",
    "c.loc[c.dt_auction <= float(t_threshold), 'mean_sig_threshold'] = 1.0\n",
    "c.loc[c.dt_auction > float(t_threshold), 'mean_sig_threshold'] = 0.0\n",
    "\n",
    "a=c[['bidder_id','mean_sig_threshold']].dropna().groupby('bidder_id').mean().reset_index()\n",
    "#a=c[c['bidder_id','dt_auction']].dropna().groupby('bidder_id').median().reset_index()\n",
    "train=pd.merge(train,a[['bidder_id','mean_sig_threshold']],how='left',on='bidder_id')\n",
    "\n",
    "\n",
    "\n",
    "# time between bids from different bidders and same auction\n",
    "\n",
    "for week in [0,2,4]:\n",
    "\n",
    "    a=bids[bids.week==week].sort_values(['auction','time'])\n",
    "    t_prev=np.append([np.nan],a.time.values[0:-1])\n",
    "    a['t_prev']=t_prev\n",
    "    auction_prev=np.append([np.nan],a.auction.values[0:-1])\n",
    "    a['auction_prev'] = auction_prev\n",
    "    bidder_prev = np.append([np.nan], a.bidder_id.values[0:-1])\n",
    "    a['bidder_prev'] = bidder_prev\n",
    "    a['dt']=a.time-a.t_prev\n",
    "    if week==0:\n",
    "        c=[a[a.bidder_id!=a.bidder_prev][a.auction==a.auction_prev]]\n",
    "    else:\n",
    "        c.append(a[a.bidder_id!=a.bidder_prev][a.auction==a.auction_prev])\n",
    "c=pd.concat(c)\n",
    "d=c[['bidder_id','dt']].dropna().groupby(['bidder_id']).dt.mean().reset_index()\n",
    "d=d.rename(columns={'dt':'dt_mean_bidder_differente'})\n",
    "train=pd.merge(train,d,how='left',on='bidder_id')\n",
    "\n",
    "d=c[['bidder_id','dt']].dropna().groupby(['bidder_id']).dt.median().reset_index()\n",
    "d=d.rename(columns={'dt':'dt_median_bidder_differente'})\n",
    "train=pd.merge(train,d,how='left',on='bidder_id')\n",
    "\n",
    "# time between bids from same bidder for every auction\n",
    "\n",
    "for week in [0,2,4]:\n",
    "    a=bids[bids.week==week].sort_values(['bidder_id','time'])\n",
    "    t_prev=np.append([np.nan],a.time.values[0:-1])\n",
    "    a['t_prev']=t_prev\n",
    "    bidder_prev=np.append([np.nan],a.bidder_id.values[0:-1])\n",
    "    a['bidder_prev']=bidder_prev\n",
    "    a['dt']=a.time-a.t_prev\n",
    "    if week==0:\n",
    "        c=[a[a.bidder_id==a.bidder_prev]]\n",
    "    else:\n",
    "        c.append(a[a.bidder_id==a.bidder_prev])\n",
    "\n",
    "c=pd.concat(c)\n",
    "d=c[['bidder_id','dt']].dropna().groupby('bidder_id').dt.mean().reset_index()\n",
    "d=d.rename(columns={'dt':'dt_mean_same_bidder'})\n",
    "train=pd.merge(train,d,how='left',on='bidder_id')\n",
    "\n",
    "d=c[['bidder_id','dt']].dropna().groupby('bidder_id').dt.median().reset_index()\n",
    "d=d.rename(columns={'dt':'dt_median_same_bidder'})\n",
    "train=pd.merge(train,d,how='left',on='bidder_id')\n",
    "\n",
    "d=c[['bidder_id','dt']].dropna().groupby('bidder_id').dt.min().reset_index()\n",
    "d=d.rename(columns={'dt':'dt_min_same_bidder'})\n",
    "train=pd.merge(train,d,how='left',on='bidder_id')\n",
    "\n",
    "# calculate the mean bids per auction for every id\n",
    "\n",
    "a=bids.groupby(['bidder_id','auction']).size().reset_index()\n",
    "a=a.rename(columns={0:'bids_mean_auction'})\n",
    "b=a.groupby(['bidder_id']).bids_mean_auction.mean().reset_index()\n",
    "train=pd.merge(train,b,how='left',on='bidder_id')\n",
    "\n",
    "b=a.groupby(['bidder_id']).bids_mean_auction.median().reset_index()\n",
    "b=b.rename(columns={'bids_mean_auction':'bids_median_auction'})\n",
    "train=pd.merge(train,b,how='left',on='bidder_id')\n",
    "\n",
    "a=bids.groupby(['bidder_id']).size().reset_index()\n",
    "a=a.rename(columns={0:'total_bids'})\n",
    "train=pd.merge(train,a,how='left',on='bidder_id')"
   ]
  },
  {
   "cell_type": "markdown",
   "metadata": {},
   "source": [
    "features related with url\n",
    "unique urls per bidder\n",
    "total urls per bidder\n",
    "total urls per bidder/unique urls per bidder\n",
    "entropy of url for each user bidder"
   ]
  },
  {
   "cell_type": "code",
   "execution_count": 105,
   "metadata": {},
   "outputs": [],
   "source": [
    "#unique urls per bidder\n",
    "\n",
    "a=bids.groupby(['bidder_id']).url.nunique().reset_index().fillna(1)\n",
    "a=a.rename(columns={'url':'n_unique_url'})\n",
    "train=pd.merge(train,a,how='left',on='bidder_id')\n",
    "\n",
    "#urls used per bidder\n",
    "a=bids.groupby('bidder_id').url.count().reset_index().fillna(1)\n",
    "a=a.rename(columns={'url':'used_urls'})\n",
    "train=pd.merge(train,a,how='left',on='bidder_id')\n",
    "\n",
    "\n",
    "# numero urls/ numero urls unicas\n",
    "train['f_urls']=train['used_urls']/train['n_unique_url']\n",
    "\n",
    "# entropia de las urls para cada bidder\n",
    "a = bids.groupby(['bidder_id', 'url']).size().reset_index()\n",
    "a= a.rename(columns = {0:'url_count'})\n",
    "a = a.groupby('bidder_id').url_count.apply(log_entropy).reset_index()\n",
    "a= a.rename(columns = {'url_count':'url_entropy'})\n",
    "train=pd.merge(train,a,how='left',on='bidder_id')\n",
    "\n",
    "# entropy of url for each user bidder\n",
    "a = bids.groupby(['bidder_id', 'url']).size().reset_index()\n",
    "a= a.rename(columns = {0:'url_count'})\n",
    "a = a.groupby('bidder_id').url_count.apply(log_entropy).reset_index()\n",
    "a= a.rename(columns = {'url_count':'url_entropy'})\n",
    "train=pd.merge(train,a,how='left',on='bidder_id')"
   ]
  },
  {
   "cell_type": "markdown",
   "metadata": {},
   "source": [
    "feature related with users ip"
   ]
  },
  {
   "cell_type": "code",
   "execution_count": 106,
   "metadata": {},
   "outputs": [],
   "source": [
    "#ip entropy\n",
    "a=bids.groupby(['bidder_id','ip']).size().reset_index()\n",
    "a=a.rename(columns={0:'ip_entropy'})\n",
    "a=a.groupby('bidder_id').ip_entropy.apply(log_entropy).reset_index()\n",
    "train=pd.merge(train,a,how='left',on='bidder_id')"
   ]
  },
  {
   "cell_type": "markdown",
   "metadata": {},
   "source": [
    "create the file for training the model"
   ]
  },
  {
   "cell_type": "code",
   "execution_count": 107,
   "metadata": {},
   "outputs": [
    {
     "name": "stdout",
     "output_type": "stream",
     "text": [
      "(6713, 121)\n"
     ]
    }
   ],
   "source": [
    "train.to_csv('etl_train.csv',index=False)\n",
    "print(train.shape)"
   ]
  },
  {
   "cell_type": "markdown",
   "metadata": {},
   "source": [
    "the file had 9 features and now it has 121 feature for creating the model"
   ]
  }
 ],
 "metadata": {
  "kernelspec": {
   "display_name": "Python 3",
   "language": "python",
   "name": "python3"
  },
  "language_info": {
   "codemirror_mode": {
    "name": "ipython",
    "version": 3
   },
   "file_extension": ".py",
   "mimetype": "text/x-python",
   "name": "python",
   "nbconvert_exporter": "python",
   "pygments_lexer": "ipython3",
   "version": "3.8.5"
  }
 },
 "nbformat": 4,
 "nbformat_minor": 4
}
